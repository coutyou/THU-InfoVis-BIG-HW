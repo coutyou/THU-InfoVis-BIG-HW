{
 "cells": [
  {
   "cell_type": "markdown",
   "metadata": {},
   "source": [
    "# md2json"
   ]
  },
  {
   "cell_type": "code",
   "execution_count": 1,
   "metadata": {
    "ExecuteTime": {
     "end_time": "2019-12-20T01:08:54.464465Z",
     "start_time": "2019-12-20T01:08:54.461465Z"
    }
   },
   "outputs": [],
   "source": [
    "import re\n",
    "import copy\n",
    "import json\n",
    "import os"
   ]
  },
  {
   "cell_type": "code",
   "execution_count": 2,
   "metadata": {
    "ExecuteTime": {
     "end_time": "2019-12-20T01:08:54.592545Z",
     "start_time": "2019-12-20T01:08:54.475456Z"
    }
   },
   "outputs": [],
   "source": [
    "def repo_process(repo):\n",
    "    res = {}\n",
    "    name = re.search(r'\\[.*?\\]', repo).group()[1:-1]\n",
    "    res[\"name\"] = name\n",
    "    url = re.search(r'\\(.*?\\)', repo).group()[1:-1]\n",
    "    res[\"url\"] = url\n",
    "    if re.search(r'\\(\\*\\*.*?\\*\\*\\)', repo).group()[3:-3]:\n",
    "        star = int(re.search(r'\\(\\*\\*.*?\\*\\*\\)', repo).group()[3:-3].split(\" stars today\")[0].replace(\",\",\"\"))\n",
    "        res[\"star\"] = star\n",
    "    else:\n",
    "        res[\"star\"] = None\n",
    "    description = re.search(r'\\*\\*\\).*?\\n', repo).group()[5:-1]\n",
    "    res[\"description\"] = description\n",
    "    return res"
   ]
  },
  {
   "cell_type": "code",
   "execution_count": 3,
   "metadata": {
    "ExecuteTime": {
     "end_time": "2019-12-20T01:08:54.750105Z",
     "start_time": "2019-12-20T01:08:54.596525Z"
    },
    "code_folding": []
   },
   "outputs": [],
   "source": [
    "def saveJson(md_path, json_path):\n",
    "    res = {}\n",
    "    res[\"date\"] = md_path[8:-3]\n",
    "    res[\"month\"] = int(res[\"date\"][5:7])\n",
    "    res[\"day\"] = int(res[\"date\"][-2:])\n",
    "    with open(md_path, encoding=\"utf8\") as f:\n",
    "        content = f.readlines()\n",
    "        for index, line in enumerate(content): \n",
    "             if line.startswith(\"## \") and line != \"## WordCloud\\n\":\n",
    "                lan = line[3:-1]\n",
    "                repos = copy.deepcopy(content[index+1:index+11])\n",
    "                for i in range(0, len(repos)):\n",
    "                    repos[i] = repo_process(repos[i])\n",
    "                res[lan] = copy.deepcopy(repos)\n",
    "    with open(json_path, 'w', encoding='utf-8') as fw:\n",
    "        fw.write(json.dumps(res, ensure_ascii=False, indent=4))"
   ]
  },
  {
   "cell_type": "code",
   "execution_count": 4,
   "metadata": {
    "ExecuteTime": {
     "end_time": "2019-12-20T01:08:56.900180Z",
     "start_time": "2019-12-20T01:08:54.754077Z"
    }
   },
   "outputs": [],
   "source": [
    "md_dir = \"data-md\"\n",
    "json_dir = \"data-json\"\n",
    "md_list = os.listdir(md_dir)\n",
    "for i in range(0, len(md_list), 3):\n",
    "    md_path = os.path.join(md_dir, md_list[i])\n",
    "    json_subdir = os.path.join(json_dir,md_path[8:-3][5:7])\n",
    "    if not os.path.exists(json_subdir):\n",
    "        os.makedirs(json_subdir)\n",
    "    json_path = os.path.join(json_subdir, md_list[i][:-3]+\".json\")\n",
    "    if os.path.isfile(md_path):\n",
    "        saveJson(md_path, json_path)"
   ]
  },
  {
   "cell_type": "code",
   "execution_count": 5,
   "metadata": {
    "ExecuteTime": {
     "end_time": "2019-12-20T01:08:58.066538Z",
     "start_time": "2019-12-20T01:08:56.903108Z"
    }
   },
   "outputs": [],
   "source": [
    "import os\n",
    "json_dir = \"data-json\"\n",
    "lan_list = [\"python\", \"java\", \"unknown\", \"javascript\", \"html\", \"dart\", \"go\"]\n",
    "\n",
    "for num in range(1,12):\n",
    "    if num < 10:\n",
    "        num_str = \"0\" + str(num)\n",
    "    else:\n",
    "        num_str = str(num)\n",
    "        \n",
    "    month_res = {}\n",
    "    month_res[\"month\"] = num\n",
    "    name_set = {}\n",
    "    for lan in lan_list:\n",
    "        month_res[lan] = []\n",
    "        name_set[lan] = set()\n",
    "        \n",
    "    json_subdir =  os.path.join(json_dir, num_str)\n",
    "    json_list = os.listdir(json_subdir)\n",
    "    for i in range(0, len(json_list)):\n",
    "        json_path = os.path.join(json_subdir, json_list[i])\n",
    "        if os.path.isfile(json_path):\n",
    "            with open(json_path, encoding=\"utf8\") as f:\n",
    "                content = json.load(f)\n",
    "                for lan in lan_list:\n",
    "                    if content.get(lan):\n",
    "                        for repo in content[lan]:\n",
    "                            if repo[\"name\"] in name_set[lan]:\n",
    "                                for exist_repo in month_res[lan]:\n",
    "                                    if exist_repo[\"name\"] == repo[\"name\"]:\n",
    "                                        if type(exist_repo[\"star\"])==int and type(repo[\"star\"])==int:\n",
    "                                            exist_repo[\"star\"] += repo[\"star\"]\n",
    "                                        elif type(repo[\"star\"])==int:\n",
    "                                            exist_repo[\"star\"] = repo[\"star\"]\n",
    "                            else:\n",
    "                                name_set[lan].add(repo[\"name\"])\n",
    "                                month_res[lan].append(repo)\n",
    "\n",
    "    month_res_path = os.path.join(json_subdir, num_str+\".json\")\n",
    "    with open(month_res_path, 'w', encoding='utf-8') as fw:\n",
    "        fw.write(json.dumps(month_res, ensure_ascii=False, indent=4))"
   ]
  },
  {
   "cell_type": "markdown",
   "metadata": {},
   "source": [
    "# json2csv"
   ]
  },
  {
   "cell_type": "code",
   "execution_count": 2,
   "metadata": {
    "ExecuteTime": {
     "end_time": "2019-12-20T06:09:05.577747Z",
     "start_time": "2019-12-20T06:09:03.918216Z"
    }
   },
   "outputs": [],
   "source": [
    "import os\n",
    "import json\n",
    "import pandas as pd"
   ]
  },
  {
   "cell_type": "code",
   "execution_count": 3,
   "metadata": {
    "ExecuteTime": {
     "end_time": "2019-12-20T06:09:18.793972Z",
     "start_time": "2019-12-20T06:09:10.843520Z"
    }
   },
   "outputs": [],
   "source": [
    "json_dir = \"data-json\"\n",
    "csv_dir = \"data-csv\"\n",
    "lan_list = [\"python\", \"java\", \"unknown\", \"javascript\", \"html\", \"dart\", \"go\"]\n",
    "\n",
    "for num in range(1,12):\n",
    "    if num < 10:\n",
    "        num_str = \"0\" + str(num)\n",
    "    else:\n",
    "        num_str = str(num)\n",
    "        \n",
    "    json_subdir =  os.path.join(json_dir, num_str)\n",
    "    month_res_path = os.path.join(json_subdir, num_str+\".json\")\n",
    "    with open(month_res_path, encoding='utf-8') as f:\n",
    "        content = json.loads(f.read())\n",
    "        df = pd.DataFrame(columns = [\"Name\", \"Language\", \"Description\", \"URL\", \"Stars\", \"Month\"])\n",
    "        for lan in lan_list:\n",
    "            if content.get(lan):\n",
    "                for repo in content[lan]:\n",
    "                    if repo[\"star\"]:\n",
    "                        new_row = pd.DataFrame({\"Name\":repo[\"name\"],\n",
    "                                              \"Language\":lan,\n",
    "                                              \"Description\":repo[\"description\"],\n",
    "                                              \"URL\":repo[\"url\"],\n",
    "                                              \"Stars\":repo[\"star\"],\n",
    "                                              \"Month\":content[\"month\"]},index=[1])\n",
    "                        df = df.append(new_row,ignore_index=True)\n",
    "        csv_path = os.path.join(csv_dir, num_str+\".csv\")\n",
    "        df.to_csv(csv_path, index=0, encoding='utf-8-sig')"
   ]
  },
  {
   "cell_type": "code",
   "execution_count": null,
   "metadata": {},
   "outputs": [],
   "source": []
  }
 ],
 "metadata": {
  "kernelspec": {
   "display_name": "Python 3",
   "language": "python",
   "name": "python3"
  },
  "language_info": {
   "codemirror_mode": {
    "name": "ipython",
    "version": 3
   },
   "file_extension": ".py",
   "mimetype": "text/x-python",
   "name": "python",
   "nbconvert_exporter": "python",
   "pygments_lexer": "ipython3",
   "version": "3.7.0"
  },
  "toc": {
   "base_numbering": 1,
   "nav_menu": {},
   "number_sections": true,
   "sideBar": true,
   "skip_h1_title": false,
   "title_cell": "Table of Contents",
   "title_sidebar": "Contents",
   "toc_cell": false,
   "toc_position": {},
   "toc_section_display": true,
   "toc_window_display": false
  },
  "varInspector": {
   "cols": {
    "lenName": 16,
    "lenType": 16,
    "lenVar": 40
   },
   "kernels_config": {
    "python": {
     "delete_cmd_postfix": "",
     "delete_cmd_prefix": "del ",
     "library": "var_list.py",
     "varRefreshCmd": "print(var_dic_list())"
    },
    "r": {
     "delete_cmd_postfix": ") ",
     "delete_cmd_prefix": "rm(",
     "library": "var_list.r",
     "varRefreshCmd": "cat(var_dic_list()) "
    }
   },
   "types_to_exclude": [
    "module",
    "function",
    "builtin_function_or_method",
    "instance",
    "_Feature"
   ],
   "window_display": false
  }
 },
 "nbformat": 4,
 "nbformat_minor": 2
}
